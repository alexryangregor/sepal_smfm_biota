{
 "cells": [
  {
   "cell_type": "code",
   "execution_count": null,
   "metadata": {},
   "outputs": [],
   "source": [
    "%%capture\n",
    "!git clone https://github.com/smfm-project/biota.git\n",
    "!pip install scikit-image\n",
    "!pip uninstall biota -y\n",
    "!pip install biota/"
   ]
  },
  {
   "cell_type": "code",
   "execution_count": 1,
   "metadata": {},
   "outputs": [
    {
     "data": {
      "application/vnd.jupyter.widget-view+json": {
       "model_id": "7579fe9519364601b4939022d405effe",
       "version_major": 2,
       "version_minor": 0
      },
      "text/plain": [
       "HTML(value='\\n<style>\\n.leaflet-pane {\\n    z-index : 2 !important;\\n}\\n.leaflet-top, .leaflet-bottom {\\n    z…"
      ]
     },
     "metadata": {},
     "output_type": "display_data"
    },
    {
     "data": {
      "application/vnd.jupyter.widget-view+json": {
       "model_id": "38a264e649cd4e8b9dd0f90d5ea0b6b2",
       "version_major": 2,
       "version_minor": 0
      },
      "text/plain": [
       "ResizeTrigger()"
      ]
     },
     "metadata": {},
     "output_type": "display_data"
    }
   ],
   "source": [
    "import os\n",
    "import getpass\n",
    "from pathlib import Path\n",
    "from functools import partial\n",
    "\n",
    "import biota\n",
    "from biota import download as dw\n",
    "\n",
    "from ipyleaflet import Marker\n",
    "from ipywidgets import Output, Layout, HTML\n",
    "from traitlets import Int, Bool, Float, link, Unicode\n",
    "import ipyvuetify as v\n",
    "from sepal_ui import mapping as m\n",
    "from sepal_ui import sepalwidgets as sw;"
   ]
  },
  {
   "cell_type": "code",
   "execution_count": null,
   "metadata": {},
   "outputs": [],
   "source": [
    "from ipywidgets import HTML"
   ]
  },
  {
   "cell_type": "code",
   "execution_count": null,
   "metadata": {},
   "outputs": [],
   "source": [
    "STYLES = \"\"\"\n",
    "<style>\n",
    ".output_text pre, .widget-html{\n",
    "    color : #fff !important;\n",
    "}\n",
    "\n",
    "</style>\n",
    "\"\"\"\n",
    "\n",
    "_ = display(HTML(STYLES));"
   ]
  },
  {
   "cell_type": "code",
   "execution_count": null,
   "metadata": {},
   "outputs": [],
   "source": []
  },
  {
   "cell_type": "code",
   "execution_count": 82,
   "metadata": {},
   "outputs": [],
   "source": [
    "HEADER_TITLE = \"SEPAL BIOTA\"\n",
    "HEADER_TEXT = \"\"\"\n",
    "The BIOmass Tool for Alos (BIOTA) was developed by LTS International and the University of Edinburgh to calculate avove-ground biomass from L-band satallite data in dry forests and savanhas, as well as biomass change and forest degradation.\n",
    "\"\"\""
   ]
  },
  {
   "cell_type": "code",
   "execution_count": 95,
   "metadata": {},
   "outputs": [],
   "source": [
    "class UI(v.Layout):\n",
    "    \n",
    "    USER = getpass.getuser()\n",
    "    PARAMETER_FILE = os.path.join('/home', USER, 'SMFM_biota/biota/cfg/McNicol2018.csv')\n",
    "\n",
    "    # Initial widgets\n",
    "    lat = Float(0).tag(sync=True)\n",
    "    lon = Float(75).tag(sync=True)\n",
    "    year_1 = Unicode().tag(sync=True)\n",
    "    year_2 = Unicode().tag(sync=True)\n",
    "    large_tile = Bool(True).tag(sync=True)\n",
    "    grid = Int(5).tag(sync=True)\n",
    "    \n",
    "    # Process widgets\n",
    "    forest_p = Bool(True).tag(sync=True)\n",
    "    forest_ch = Bool(True).tag(sync=True)\n",
    "    gamma0 = Bool(True).tag(sync=True)\n",
    "    biomass = Bool(True).tag(sync=True)\n",
    "    forest_cv = Bool(True).tag(sync=True)\n",
    "    \n",
    "\n",
    "    \n",
    "    def __init__(self, map_=None, **kwargs):\n",
    "        \n",
    "        # Widget classes\n",
    "        self.class_ = \"flex-column pa-2\"\n",
    "        self.row = True\n",
    "        self.xs12 = True\n",
    "        \n",
    "        super().__init__(**kwargs)\n",
    "        \n",
    "        # Set up variables\n",
    "        \n",
    "        self.map_ = map_\n",
    "        \n",
    "        # Set-up workspace\n",
    "        self._workspace()\n",
    "\n",
    "        # Widgets\n",
    "        self.progress = Output()\n",
    "#         layout=Layout(height='80px')\n",
    "        \n",
    "        self.w_lat = v.TextField(disabled=True, label='Latitude',v_model=self.lat,)\n",
    "        self.w_lon = v.TextField(disabled=True, label='Longitude', v_model=self.lon,)\n",
    "        self.w_year_1 = v.TextField(label='Year 1', v_model=self.year_1,)\n",
    "        self.w_year_2 = v.TextField(label='Year 2', v_model=self.year_2,)\n",
    "        self.w_lg_tile = v.Checkbox(label='Large Tile', v_model=self.large_tile)\n",
    "        self.w_grid = v.RadioGroup(v_model=self.grid,children=[\n",
    "            v.Radio(label=\"1x1 grid\", value=1),v.Radio(label=\"5x5 grid\", value=5)\n",
    "        ])\n",
    "        \n",
    "        # Process widgets\n",
    "        self.w_forest_p = v.Checkbox(label='Forest property', class_='pl-5', v_model=self.forest_p)\n",
    "        self.w_forest_ch = v.Checkbox(label='Forest change', class_='pl-5', v_model=self.forest_ch)\n",
    "        self.w_gamma0 = v.Checkbox(label='Gamma0', class_='pl-5', v_model=self.gamma0)\n",
    "        self.w_biomass = v.Checkbox(label='Biomass', class_='pl-5', v_model=self.biomass)\n",
    "        self.w_forest_cv = v.Checkbox(label='Forest cover', class_='pl-5', v_model=self.forest_cv)\n",
    "        self.w_download = sw.Btn('Download images', class_='pl-5')\n",
    "            \n",
    "        self.w_alert = sw.Alert()\n",
    "        self.w_download = sw.Btn('Download images', class_='pl-5')\n",
    "        \n",
    "        \n",
    "\n",
    "        link((self.w_lon, 'v_model'), (self, 'lon'))\n",
    "        link((self.w_lat, 'v_model'), (self, 'lat'))\n",
    "        link((self.w_year_1, 'v_model'), (self, 'year_1'))\n",
    "        link((self.w_year_2, 'v_model'), (self, 'year_2'))\n",
    "        link((self.w_lg_tile, 'v_model'), (self, 'large_tile'))\n",
    "        link((self.w_grid, 'v_model'), (self, 'grid'))\n",
    "\n",
    "        link((self.w_forest_p, 'v_model'), (self, 'forest_p'))\n",
    "        link((self.w_forest_ch, 'v_model'), (self, 'forest_ch'))\n",
    "        link((self.w_gamma0, 'v_model'), (self, 'gamma0'))\n",
    "        link((self.w_biomass, 'v_model'), (self, 'biomass'))\n",
    "        link((self.w_forest_cv, 'v_model'), (self, 'forest_cv'))\n",
    "\n",
    "        # Events\n",
    "        self.w_download.on_event('click', self._download)\n",
    "#         class_=\"d-flex flex-row \", xs12=True, md6=True,\n",
    "        self.children = [\n",
    "            \n",
    "            v.Card(children=[\n",
    "                v.CardTitle(children=[HEADER_TITLE]), \n",
    "                v.CardText(children=[HEADER_TEXT])\n",
    "            ]),\n",
    "            \n",
    "            v.Row(class_=\"d-flex flex-row \", xs12=True, md6=True,\n",
    "               children=[\n",
    "                    v.Col(\n",
    "                        children=[\n",
    "                            v.Card(class_='pa-4',children=[\n",
    "                                self.w_lon, \n",
    "                                self.w_lat,\n",
    "                                self.w_year_1,\n",
    "                                self.w_year_2,\n",
    "                                self.w_lg_tile,\n",
    "                                self.w_grid,\n",
    "                                self.w_download\n",
    "                            ])\n",
    "\n",
    "                        ]\n",
    "                    ),\n",
    "                    v.Col(\n",
    "                        children=[\n",
    "                            v.Card(class_='pa-2 justify-center', children=[\n",
    "                                map_\n",
    "                            ])\n",
    "                        ]\n",
    "                    ),\n",
    "            ]),\n",
    "\n",
    "            # Second row\n",
    "            # Progress bar\n",
    "            v.Card(class_=\"flex-row pa-2 mb-3\", children=[\n",
    "                self.w_alert,\n",
    "                self.progress,\n",
    "\n",
    "            ]),\n",
    "            \n",
    "            # Third row\n",
    "            # Progress bar\n",
    "            v.Card(class_=\"d-flex flex-row\", children=[\n",
    "                v.Col(\n",
    "                    children=[\n",
    "                            self.w_forest_p,\n",
    "                            self.w_forest_ch,\n",
    "                    ]\n",
    "                ),\n",
    "                v.Col(\n",
    "                    children=[\n",
    "                            self.w_gamma0,\n",
    "                            self.w_biomass,\n",
    "                    ]\n",
    "                ),\n",
    "                v.Col(\n",
    "                    children=[\n",
    "                            self.w_forest_cv,\n",
    "                    ]\n",
    "                ),\n",
    "            ]\n",
    "            )\n",
    "        ]\n",
    "    \n",
    "    def _round(self, x, base=5):\n",
    "        return base * round(x/base)\n",
    "    \n",
    "    def _workspace(self):\n",
    "        \"\"\" Creates the workspace necessary to store the data\n",
    "\n",
    "        return:\n",
    "            Returns environment Paths\n",
    "\n",
    "        \"\"\"\n",
    "\n",
    "        base_dir = Path(os.path.join('/home', self.USER))\n",
    "\n",
    "        root_dir = base_dir/'smfm'\n",
    "        data_dir = root_dir/'data'\n",
    "        output_dir = root_dir/'outputs'\n",
    "\n",
    "        root_dir.mkdir(parents=True, exist_ok=True)\n",
    "        data_dir.mkdir(parents=True, exist_ok=True)\n",
    "        output_dir.mkdir(parents=True, exist_ok=True)\n",
    "\n",
    "        self.root_dir = root_dir\n",
    "        self.data_dir  = data_dir\n",
    "        self.output_dir = output_dir\n",
    "    \n",
    "    \n",
    "    def _download(self, widget, event, data):\n",
    "        \n",
    "        self.w_download.toggle_loading()\n",
    "        with self.progress:\n",
    "            \n",
    "            try:\n",
    "                self.progress.clear_output()\n",
    "                self.w_alert.reset()\n",
    "\n",
    "                years = [int(year) for year in [self.year_1, self.year_2] if year]\n",
    "                lat = self._round(self.lat, base=self.grid)\n",
    "                lon = self._round(self.lon, base=self.grid)\n",
    "\n",
    "                if not years:\n",
    "                    self.w_alert.add_msg('Please select at least one year.', type_='error')\n",
    "\n",
    "                for y in years:\n",
    "                    dw.download(lat, \n",
    "                                lon, \n",
    "                                y, \n",
    "                                large_tile=self.large_tile, \n",
    "                                output_dir=self.data_dir, \n",
    "                                verbose=True)\n",
    "            except Exception as e:\n",
    "                self.w_alert.add_msg(f'{e}', type_='error')\n",
    "                \n",
    "        self.w_download.toggle_loading()\n",
    "\n",
    "    def _decompress(self):\n",
    "\n",
    "        tar_files = list(self.data_dir.glob('*.tar.gz'))\n",
    "\n",
    "        for tar in tar_files:\n",
    "            if not os.path.exists(os.path.join(self.data_dir, tar.name[:-7])):\n",
    "                download.decompress(tar)"
   ]
  },
  {
   "cell_type": "code",
   "execution_count": 96,
   "metadata": {},
   "outputs": [],
   "source": [
    "def _return_coordinates(self, **kwargs):\n",
    "    if kwargs.get('type') == 'click':\n",
    "\n",
    "        # Remove markdown if there is one\n",
    "        map_.remove_last_layer()\n",
    "\n",
    "        lat, lon = kwargs.get('coordinates')\n",
    "\n",
    "        map_.add_layer(Marker(location=kwargs.get('coordinates')))\n",
    "        ui.lat = round(lat,2)\n",
    "        ui.lon = round(lon,2)\n",
    "# Map\n",
    "map_ = m.SepalMap()\n",
    "# map_.layout.height='400px'\n",
    "# map_.layout.width='400px'\n",
    "ui = UI(map_=map_)\n",
    "map_.on_interaction(partial(_return_coordinates, ui))"
   ]
  },
  {
   "cell_type": "code",
   "execution_count": 97,
   "metadata": {
    "scrolled": false
   },
   "outputs": [
    {
     "data": {
      "application/vnd.jupyter.widget-view+json": {
       "model_id": "c034514844864b32b43287f63b45e952",
       "version_major": 2,
       "version_minor": 0
      },
      "text/plain": [
       "UI(children=[Card(children=[CardTitle(children=['SEPAL BIOTA']), CardText(children=['\\nThe BIOmass Tool for Al…"
      ]
     },
     "metadata": {},
     "output_type": "display_data"
    }
   ],
   "source": [
    "ui"
   ]
  },
  {
   "cell_type": "code",
   "execution_count": null,
   "metadata": {},
   "outputs": [],
   "source": []
  },
  {
   "cell_type": "code",
   "execution_count": null,
   "metadata": {},
   "outputs": [],
   "source": []
  },
  {
   "cell_type": "code",
   "execution_count": 81,
   "metadata": {
    "scrolled": true
   },
   "outputs": [
    {
     "data": {
      "application/vnd.jupyter.widget-view+json": {
       "model_id": "f4f36b2979d24785acc9538d519e4f29",
       "version_major": 2,
       "version_minor": 0
      },
      "text/plain": [
       "Card(children=[CardTitle(children=['Hola']), CardSubtitle(children=['Hola']), CardText(children=['This is the …"
      ]
     },
     "metadata": {},
     "output_type": "display_data"
    }
   ],
   "source": [
    "v.Card(children=[\n",
    "    v.CardTitle(children=['Hola']),\n",
    "    v.CardSubtitle(children=['Hola']),\n",
    "    v.CardText(children=['This is the content']),\n",
    "])"
   ]
  },
  {
   "cell_type": "code",
   "execution_count": null,
   "metadata": {},
   "outputs": [],
   "source": []
  },
  {
   "cell_type": "code",
   "execution_count": null,
   "metadata": {},
   "outputs": [],
   "source": [
    "m_ = m.SepalMap()"
   ]
  },
  {
   "cell_type": "code",
   "execution_count": null,
   "metadata": {},
   "outputs": [],
   "source": [
    "v.Layout(class_=\"flex-column pa-2\", children=[\n",
    "    \n",
    "    # First row\n",
    "    # Download Inputs\n",
    "    v.Row(class_=\"d-flex flex-row \", xs12=True, md6=True,\n",
    "           children=[\n",
    "                v.Col(\n",
    "                    children=[\n",
    "                        v.Card(class_='pa-2',children=[\n",
    "                            v.TextField(disabled=True, class_='d-flex', label='Latitude'),\n",
    "                            v.TextField(disabled=True, class_='d-flex', label='Latitude'),\n",
    "                        ])\n",
    "\n",
    "                    ]\n",
    "                ),\n",
    "                v.Col(\n",
    "                    children=[\n",
    "                        v.Card(class_='pa-2 justify-center', children=[\n",
    "                            map_\n",
    "                        ])\n",
    "\n",
    "                    ]\n",
    "                ),\n",
    "        ]),\n",
    "    \n",
    "    # Second row\n",
    "    # Process selector\n",
    "    v.Card(class_=\"flex-row\", children=[\n",
    "        v.Input(children=['items3'])\n",
    "    ]),\n",
    "\n",
    "])"
   ]
  },
  {
   "cell_type": "code",
   "execution_count": null,
   "metadata": {},
   "outputs": [],
   "source": []
  },
  {
   "cell_type": "code",
   "execution_count": null,
   "metadata": {},
   "outputs": [],
   "source": [
    "ou = Output(class_=\"v-label theme--dark\")"
   ]
  },
  {
   "cell_type": "code",
   "execution_count": null,
   "metadata": {},
   "outputs": [],
   "source": [
    "with ou:\n",
    "    ou.clear_output()\n",
    "#     x = sw.Alert().add_msg('Holi')\n",
    "#     display(x)\n",
    "    pbar = tqdm(total=100)\n",
    "    for i in range(10):\n",
    "        sleep(0.1)\n",
    "        pbar.update(10)\n",
    "    pbar.close()"
   ]
  },
  {
   "cell_type": "code",
   "execution_count": null,
   "metadata": {},
   "outputs": [],
   "source": [
    "v.Layout(children=[ou, sw.Markdown(mkd_str=\"<p>hola</p>\")])"
   ]
  },
  {
   "cell_type": "code",
   "execution_count": null,
   "metadata": {},
   "outputs": [],
   "source": [
    "Output?"
   ]
  },
  {
   "cell_type": "code",
   "execution_count": 57,
   "metadata": {},
   "outputs": [],
   "source": [
    "tile_2018 = biota.LoadTile(str(ui.data_dir), \n",
    "                           0, \n",
    "                           -75, \n",
    "                           2018,\n",
    "                           parameter_file = ui.PARAMETER_FILE,\n",
    "                           lee_filter = True, \n",
    "                           forest_threshold = 15., \n",
    "                           area_threshold = 1, \n",
    "                           output_dir = str(ui.output_dir))"
   ]
  },
  {
   "cell_type": "code",
   "execution_count": null,
   "metadata": {},
   "outputs": [],
   "source": [
    "# Define latitude and longitude\n",
    "latitude = 0\n",
    "longitude = -75\n",
    "\n",
    "# Load the ALOS tile for 2007...\n",
    "tile_2018 = biota.LoadTile(data_dir, latitude, longitude, 2018, lee_filter = True, forest_threshold = 15., area_threshold = 1, output_dir = output_dir)\n",
    "\n",
    "# ...and for 2017\n",
    "#tile_2017 = biota.LoadTile(data_dir, latitude, longitude, 2017, lee_filter = True, forest_threshold = 15., area_threshold = 1, output_dir = output_dir)\n",
    "\n",
    "# ...and for 2015\n",
    "tile_2015 = biota.LoadTile(data_dir, latitude, longitude, 2015, lee_filter = True, forest_threshold = 15., area_threshold = 1, output_dir = output_dir)\n",
    "\n",
    "# ...and for 2010\n",
    "#tile_2010 = biota.LoadTile(data_dir, latitude, longitude, 2010, lee_filter = True, forest_threshold = 15., area_threshold = 1, output_dir = output_dir)\n"
   ]
  },
  {
   "cell_type": "code",
   "execution_count": 59,
   "metadata": {},
   "outputs": [],
   "source": [
    "gamma0_2018 = tile_2018.getGamma0()"
   ]
  },
  {
   "cell_type": "code",
   "execution_count": null,
   "metadata": {},
   "outputs": [],
   "source": [
    "fig = plt.figure(figsize = (7, 6))\n",
    "ax = fig.add_subplot(1, 1, 1)\n",
    "\n",
    "# Plot map\n",
    "buildMap(fig, ax, data, lat, lon, title = title, cbartitle = cbartitle, vmin = vmin, vmax = vmax, cmap = cmap, big_labels = big_labels)\n",
    "\n",
    "# Show in window\n",
    "plt.show()\n",
    "\n",
    "# Tidy up\n",
    "plt.close()"
   ]
  },
  {
   "cell_type": "code",
   "execution_count": 61,
   "metadata": {
    "scrolled": true
   },
   "outputs": [
    {
     "ename": "AttributeError",
     "evalue": "'LoadTile' object has no attribute '__showArray'",
     "output_type": "error",
     "traceback": [
      "\u001b[0;31m---------------------------------------------------------------------------\u001b[0m",
      "\u001b[0;31mAttributeError\u001b[0m                            Traceback (most recent call last)",
      "\u001b[0;32m<ipython-input-61-c6db933ee5fe>\u001b[0m in \u001b[0;36m<module>\u001b[0;34m\u001b[0m\n\u001b[0;32m----> 1\u001b[0;31m \u001b[0mtile_2018\u001b[0m\u001b[0;34m.\u001b[0m\u001b[0m__showArray\u001b[0m\u001b[0;34m(\u001b[0m\u001b[0mgamma0_2018\u001b[0m\u001b[0;34m)\u001b[0m\u001b[0;34m\u001b[0m\u001b[0;34m\u001b[0m\u001b[0m\n\u001b[0m",
      "\u001b[0;31mAttributeError\u001b[0m: 'LoadTile' object has no attribute '__showArray'"
     ]
    }
   ],
   "source": [
    "tile_2018.__showArray(gamma0_2018)"
   ]
  },
  {
   "cell_type": "code",
   "execution_count": null,
   "metadata": {},
   "outputs": [],
   "source": [
    "gamma0_2018 = tile_2018.getGamma0(polarisation = 'HV', units = 'decibels', show = True)"
   ]
  },
  {
   "cell_type": "code",
   "execution_count": null,
   "metadata": {},
   "outputs": [],
   "source": [
    "agb_2018 = tile_2018.getAGB(show = True)"
   ]
  },
  {
   "cell_type": "code",
   "execution_count": null,
   "metadata": {},
   "outputs": [],
   "source": [
    "woodycover_2018 = tile_2018.getWoodyCover(show = True)"
   ]
  },
  {
   "cell_type": "code",
   "execution_count": null,
   "metadata": {},
   "outputs": [],
   "source": [
    "tile_2018 = biota.LoadTile(data_dir, latitude, longitude, 2018, lee_filter = True, forest_threshold = 15., area_threshold = 1, output_dir = output_dir)\n",
    "tile_2015 = biota.LoadTile(data_dir, latitude, longitude, 2015, lee_filter = True, forest_threshold = 15., area_threshold = 1, output_dir = output_dir)\n",
    "#tile_2010 = biota.LoadTile(data_dir, latitude, longitude, 2010, lee_filter = True, forest_threshold = 15., area_threshold = 1, output_dir = output_dir)"
   ]
  },
  {
   "cell_type": "code",
   "execution_count": null,
   "metadata": {},
   "outputs": [],
   "source": [
    "tile_2018.getAGB(show = True)"
   ]
  },
  {
   "cell_type": "code",
   "execution_count": null,
   "metadata": {},
   "outputs": [],
   "source": [
    "tile_change = biota.LoadChange(tile_2015, tile_2018, change_area_threshold = 2, change_magnitude_threshold = 15)\n",
    "tile_change.getChangeType(show = True)"
   ]
  },
  {
   "cell_type": "code",
   "execution_count": null,
   "metadata": {},
   "outputs": [],
   "source": [
    "agb_change = tile_change.getAGBChange(show = True, output = True)"
   ]
  },
  {
   "cell_type": "code",
   "execution_count": null,
   "metadata": {},
   "outputs": [],
   "source": [
    "change_type = tile_change.getChangeType(output = True)"
   ]
  },
  {
   "cell_type": "code",
   "execution_count": null,
   "metadata": {},
   "outputs": [],
   "source": [
    "type(tile_change)"
   ]
  }
 ],
 "metadata": {
  "kernelspec": {
   "display_name": "Python 3",
   "language": "python",
   "name": "python3"
  },
  "language_info": {
   "codemirror_mode": {
    "name": "ipython",
    "version": 3
   },
   "file_extension": ".py",
   "mimetype": "text/x-python",
   "name": "python",
   "nbconvert_exporter": "python",
   "pygments_lexer": "ipython3",
   "version": "3.6.9"
  }
 },
 "nbformat": 4,
 "nbformat_minor": 4
}
