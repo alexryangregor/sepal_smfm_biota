{
 "cells": [
  {
   "cell_type": "code",
   "execution_count": null,
   "metadata": {},
   "outputs": [],
   "source": [
    "# Install local biota to overwrite system installation"
   ]
  },
  {
   "cell_type": "code",
   "execution_count": null,
   "metadata": {},
   "outputs": [],
   "source": [
    "%%capture\n",
    "!pip install biota/"
   ]
  },
  {
   "cell_type": "code",
   "execution_count": null,
   "metadata": {
    "tags": []
   },
   "outputs": [],
   "source": [
    "from functools import partial\n",
    "\n",
    "import ipyvuetify as v\n",
    "from sepal_ui import mapping as m\n",
    "from sepal_ui import sepalwidgets as sw\n",
    "\n",
    "from component.widget.custom_widgets import *\n",
    "from component.scripts.scripts import *\n",
    "from component.message import cm\n",
    "from component.tiles import *"
   ]
  },
  {
   "cell_type": "code",
   "execution_count": null,
   "metadata": {
    "tags": []
   },
   "outputs": [],
   "source": [
    "# Map\n",
    "map_ = m.SepalMap()\n",
    "parameters = Parameters(map_=map_)\n",
    "map_.on_interaction(partial(return_coordinates, parameters=parameters, map_=map_))"
   ]
  },
  {
   "cell_type": "code",
   "execution_count": null,
   "metadata": {
    "tags": []
   },
   "outputs": [],
   "source": [
    "process = Process(parameters)"
   ]
  },
  {
   "cell_type": "code",
   "execution_count": null,
   "metadata": {
    "tags": []
   },
   "outputs": [],
   "source": [
    "process_tile = sw.Tile(id_='process', title='Process', inputs=[process])\n",
    "\n",
    "parameters_tile = sw.Tile(id_='parameters', title='Parameters', inputs=[parameters])\n",
    "\n",
    "appBar = sw.AppBar('SMFM Biota')\n",
    "\n",
    "content = [\n",
    "    parameters_tile,\n",
    "    process_tile,\n",
    "]\n",
    "\n",
    "#create a drawer \n",
    "item_param = sw.DrawerItem('Parameters', 'mdi-map-marker-check', card=\"parameters\").display_tile(content)\n",
    "item_process = sw.DrawerItem('Process', 'mdi-earth', card=\"process\").display_tile(content)\n",
    "\n",
    "code_link = 'https://github.com/ingdanielguerrero/smfm_biota'\n",
    "wiki_link = 'https://github.com/ingdanielguerrero/smfm_biota/blob/main/README.md'\n",
    "issue = 'https://github.com/ingdanielguerrero/smfm_biota/issues/new'\n",
    "\n",
    "items = [\n",
    "    item_param,\n",
    "    item_process,\n",
    "]\n",
    "\n",
    "drawer = sw.NavDrawer(items, code = code_link, wiki = wiki_link, issue = issue).display_drawer(appBar.toggle_button)\n",
    "\n",
    "#build the app \n",
    "#\n",
    "app = sw.App(\n",
    "    appBar = appBar,\n",
    "    tiles=content, \n",
    "    navDrawer=drawer\n",
    ").show_tile('parameters')\n",
    "#display the app\n",
    "app"
   ]
  }
 ],
 "metadata": {
  "kernelspec": {
   "display_name": "Python 3",
   "language": "python",
   "name": "python3"
  },
  "language_info": {
   "codemirror_mode": {
    "name": "ipython",
    "version": 3
   },
   "file_extension": ".py",
   "mimetype": "text/x-python",
   "name": "python",
   "nbconvert_exporter": "python",
   "pygments_lexer": "ipython3",
   "version": "3.6.9"
  }
 },
 "nbformat": 4,
 "nbformat_minor": 4
}
