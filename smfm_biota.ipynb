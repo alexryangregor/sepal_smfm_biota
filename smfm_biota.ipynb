{
 "cells": [
  {
   "cell_type": "code",
   "execution_count": null,
   "metadata": {},
   "outputs": [],
   "source": [
    "# Install local biota to overwrite system installation"
   ]
  },
  {
   "cell_type": "code",
   "execution_count": null,
   "metadata": {},
   "outputs": [],
   "source": [
    "%%capture\n",
    "!pip install biota/"
   ]
  },
  {
   "cell_type": "code",
   "execution_count": 1,
   "metadata": {},
   "outputs": [
    {
     "data": {
      "application/vnd.jupyter.widget-view+json": {
       "model_id": "59ae2f5247a241a8a23f8baaa8394e8e",
       "version_major": 2,
       "version_minor": 0
      },
      "text/plain": [
       "Styles()"
      ]
     },
     "metadata": {},
     "output_type": "display_data"
    },
    {
     "data": {
      "application/vnd.jupyter.widget-view+json": {
       "model_id": "bb4b34a500ce4223895ed302267b7339",
       "version_major": 2,
       "version_minor": 0
      },
      "text/plain": [
       "ResizeTrigger()"
      ]
     },
     "metadata": {},
     "output_type": "display_data"
    }
   ],
   "source": [
    "from functools import partial\n",
    "\n",
    "import ipyvuetify as v\n",
    "from sepal_ui import mapping as m\n",
    "from sepal_ui import sepalwidgets as sw\n",
    "\n",
    "from component.widget.custom_widgets import *\n",
    "from component.scripts.scripts import *\n",
    "from component.message import cm\n",
    "from component.tiles import *"
   ]
  },
  {
   "cell_type": "code",
   "execution_count": 2,
   "metadata": {},
   "outputs": [],
   "source": [
    "# Map\n",
    "map_ = m.SepalMap()\n",
    "parameters = Parameters(map_=map_)\n",
    "map_.on_interaction(partial(return_coordinates, parameters=parameters, map_=map_))"
   ]
  },
  {
   "cell_type": "code",
   "execution_count": 3,
   "metadata": {},
   "outputs": [],
   "source": [
    "process = Process(parameters)"
   ]
  },
  {
   "cell_type": "code",
   "execution_count": 4,
   "metadata": {
    "scrolled": false
   },
   "outputs": [
    {
     "data": {
      "application/vnd.jupyter.widget-view+json": {
       "model_id": "1bbea340b1e340aebde9ceb9cbdba883",
       "version_major": 2,
       "version_minor": 0
      },
      "text/plain": [
       "Parameters(children=[Card(children=[CardTitle(children=['SEPAL BIOTA (BETA)']), CardText(children=['The BIOmas…"
      ]
     },
     "metadata": {},
     "output_type": "display_data"
    }
   ],
   "source": [
    "parameters"
   ]
  },
  {
   "cell_type": "code",
   "execution_count": 5,
   "metadata": {
    "scrolled": false
   },
   "outputs": [
    {
     "data": {
      "application/vnd.jupyter.widget-view+json": {
       "model_id": "a6e25ceb331a4f9d9f40633bf0a6aa34",
       "version_major": 2,
       "version_minor": 0
      },
      "text/plain": [
       "Process(children=[Card(children=[CardTitle(children=['OUTPUT PROCESS']), CardText(children=[Col(children=[Chec…"
      ]
     },
     "metadata": {},
     "output_type": "display_data"
    }
   ],
   "source": [
    "process"
   ]
  },
  {
   "cell_type": "code",
   "execution_count": null,
   "metadata": {},
   "outputs": [],
   "source": [
    "process_tile = sw.Tile(id_='process', title='Process', inputs=[process])\n",
    "\n",
    "parameters_tile = sw.Tile(id_='parameters', title='Parameters', inputs=[parameters])\n",
    "\n",
    "appBar = sw.AppBar('SMFM Biota')\n",
    "\n",
    "content = [\n",
    "    parameters_tile,\n",
    "    process_tile,\n",
    "]\n",
    "\n",
    "#create a drawer \n",
    "item_param = sw.DrawerItem('Parameters', 'mdi-map-marker-check', card=\"parameters\").display_tile(content)\n",
    "item_process = sw.DrawerItem('Process', 'mdi-earth', card=\"process\").display_tile(content)\n",
    "\n",
    "code_link = 'https://github.com/ingdanielguerrero/smfm_biota'\n",
    "wiki_link = 'https://github.com/ingdanielguerrero/smfm_biota/blob/main/README.md'\n",
    "issue = 'https://github.com/ingdanielguerrero/smfm_biota/issues/new'\n",
    "\n",
    "items = [\n",
    "    item_param,\n",
    "    item_process,\n",
    "]\n",
    "\n",
    "drawer = sw.NavDrawer(items, code = code_link, wiki = wiki_link, issue = issue).display_drawer(appBar.toggle_button)\n",
    "\n",
    "#build the app \n",
    "#\n",
    "app = sw.App(\n",
    "    appBar = appBar,\n",
    "    tiles=content, \n",
    "    navDrawer=drawer\n",
    ").show_tile('parameters')\n",
    "#display the app\n",
    "app"
   ]
  },
  {
   "cell_type": "code",
   "execution_count": null,
   "metadata": {},
   "outputs": [],
   "source": [
    "import datetime"
   ]
  },
  {
   "cell_type": "code",
   "execution_count": null,
   "metadata": {},
   "outputs": [],
   "source": [
    "datetime.datetime.now()"
   ]
  }
 ],
 "metadata": {
  "kernelspec": {
   "display_name": "Python 3",
   "language": "python",
   "name": "python3"
  },
  "language_info": {
   "codemirror_mode": {
    "name": "ipython",
    "version": 3
   },
   "file_extension": ".py",
   "mimetype": "text/x-python",
   "name": "python",
   "nbconvert_exporter": "python",
   "pygments_lexer": "ipython3",
   "version": "3.6.9"
  }
 },
 "nbformat": 4,
 "nbformat_minor": 4
}
